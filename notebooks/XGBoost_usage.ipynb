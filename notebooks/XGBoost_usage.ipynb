{
 "metadata": {
  "kernelspec": {
   "language": "python",
   "display_name": "Python 3",
   "name": "python3"
  },
  "language_info": {
   "name": "python",
   "version": "3.7.12",
   "mimetype": "text/x-python",
   "codemirror_mode": {
    "name": "ipython",
    "version": 3
   },
   "pygments_lexer": "ipython3",
   "nbconvert_exporter": "python",
   "file_extension": ".py"
  }
 },
 "nbformat_minor": 4,
 "nbformat": 4,
 "cells": [
  {
   "cell_type": "code",
   "source": [
    "import numpy as np\n",
    "import pandas as pd\n",
    "from scipy import stats\n",
    "\n",
    "from sklearn.model_selection import train_test_split\n",
    "from sklearn.datasets import make_classification, make_regression\n",
    "\n",
    "from hyperopt import hp\n",
    "from hyperopt import Trials\n",
    "\n",
    "from xgboost import *\n",
    "\n",
    "try:\n",
    "    from shaphypetune import BoostSearch, BoostBoruta, BoostRFE, BoostRFA\n",
    "except:\n",
    "    !pip install --upgrade shap-hypetune\n",
    "    from shaphypetune import BoostSearch, BoostBoruta, BoostRFE, BoostRFA\n",
    "\n",
    "import warnings\n",
    "warnings.simplefilter('ignore')"
   ],
   "metadata": {
    "execution": {
     "iopub.status.busy": "2022-01-01T11:49:44.031173Z",
     "iopub.execute_input": "2022-01-01T11:49:44.031497Z",
     "iopub.status.idle": "2022-01-01T11:49:45.071830Z",
     "shell.execute_reply.started": "2022-01-01T11:49:44.031410Z",
     "shell.execute_reply": "2022-01-01T11:49:45.070928Z"
    },
    "trusted": true
   },
   "execution_count": 1,
   "outputs": []
  },
  {
   "cell_type": "code",
   "source": [
    "X_clf, y_clf = make_classification(n_samples=6000, n_features=20, n_classes=2, \n",
    "                                   n_informative=4, n_redundant=6, random_state=0)\n",
    "\n",
    "X_clf_train, X_clf_valid, y_clf_train, y_clf_valid = train_test_split(\n",
    "    X_clf, y_clf, test_size=0.3, shuffle=False)\n",
    "\n",
    "X_regr, y_regr = make_classification(n_samples=6000, n_features=20,\n",
    "                                     n_informative=7, random_state=0)\n",
    "\n",
    "X_regr_train, X_regr_valid, y_regr_train, y_regr_valid = train_test_split(\n",
    "    X_regr, y_regr, test_size=0.3, shuffle=False)"
   ],
   "metadata": {
    "execution": {
     "iopub.status.busy": "2022-01-01T11:49:45.073832Z",
     "iopub.execute_input": "2022-01-01T11:49:45.074046Z",
     "iopub.status.idle": "2022-01-01T11:49:45.098178Z",
     "shell.execute_reply.started": "2022-01-01T11:49:45.074004Z",
     "shell.execute_reply": "2022-01-01T11:49:45.097461Z"
    },
    "trusted": true
   },
   "execution_count": 2,
   "outputs": []
  },
  {
   "cell_type": "code",
   "source": [
    "param_grid = {\n",
    "    'learning_rate': [0.2, 0.1],\n",
    "    'num_leaves': [25, 35],\n",
    "    'max_depth': [10, 12]\n",
    "}\n",
    "\n",
    "param_dist = {\n",
    "    'learning_rate': stats.uniform(0.09, 0.25),\n",
    "    'num_leaves': stats.randint(20,40),\n",
    "    'max_depth': [10, 12]\n",
    "}\n",
    "\n",
    "param_dist_hyperopt = {\n",
    "    'max_depth': 15 + hp.randint('num_leaves', 5), \n",
    "    'learning_rate': hp.loguniform('learning_rate', np.log(0.01), np.log(0.2)),\n",
    "    'colsample_bytree': hp.uniform('colsample_by_tree', 0.6, 1.0)\n",
    "}\n",
    "\n",
    "\n",
    "regr_xgb = XGBRegressor(n_estimators=150, random_state=0, verbosity=0, n_jobs=-1)\n",
    "clf_xgb = XGBClassifier(n_estimators=150, random_state=0, verbosity=0, n_jobs=-1)"
   ],
   "metadata": {
    "execution": {
     "iopub.status.busy": "2022-01-01T11:49:45.099715Z",
     "iopub.execute_input": "2022-01-01T11:49:45.099916Z",
     "iopub.status.idle": "2022-01-01T11:49:45.108765Z",
     "shell.execute_reply.started": "2022-01-01T11:49:45.099890Z",
     "shell.execute_reply": "2022-01-01T11:49:45.107996Z"
    },
    "trusted": true
   },
   "execution_count": 3,
   "outputs": []
  },
  {
   "cell_type": "markdown",
   "source": [
    "# Hyperparameters Tuning"
   ],
   "metadata": {}
  },
  {
   "cell_type": "code",
   "source": [
    "### HYPERPARAM TUNING WITH GRID-SEARCH ###\n",
    "\n",
    "model = BoostSearch(clf_xgb, param_grid=param_grid)\n",
    "model.fit(X_clf_train, y_clf_train, eval_set=[(X_clf_valid, y_clf_valid)], early_stopping_rounds=6, verbose=0)"
   ],
   "metadata": {
    "execution": {
     "iopub.status.busy": "2022-01-01T11:49:45.109686Z",
     "iopub.execute_input": "2022-01-01T11:49:45.109871Z",
     "iopub.status.idle": "2022-01-01T11:49:52.490942Z",
     "shell.execute_reply.started": "2022-01-01T11:49:45.109848Z",
     "shell.execute_reply": "2022-01-01T11:49:52.490078Z"
    },
    "trusted": true
   },
   "execution_count": 4,
   "outputs": [
    {
     "name": "stdout",
     "text": "\n8 trials detected for ('learning_rate', 'num_leaves', 'max_depth')\n\ntrial: 0001 ### iterations: 00021 ### eval_score: 0.2045\ntrial: 0002 ### iterations: 00026 ### eval_score: 0.19472\ntrial: 0003 ### iterations: 00021 ### eval_score: 0.2045\ntrial: 0004 ### iterations: 00026 ### eval_score: 0.19472\ntrial: 0005 ### iterations: 00045 ### eval_score: 0.19964\ntrial: 0006 ### iterations: 00050 ### eval_score: 0.20157\ntrial: 0007 ### iterations: 00045 ### eval_score: 0.19964\ntrial: 0008 ### iterations: 00050 ### eval_score: 0.20157\n",
     "output_type": "stream"
    },
    {
     "execution_count": 4,
     "output_type": "execute_result",
     "data": {
      "text/plain": "BoostSearch(estimator=XGBClassifier(base_score=None, booster=None,\n                                    colsample_bylevel=None,\n                                    colsample_bynode=None,\n                                    colsample_bytree=None,\n                                    enable_categorical=False, gamma=None,\n                                    gpu_id=None, importance_type=None,\n                                    interaction_constraints=None,\n                                    learning_rate=None, max_delta_step=None,\n                                    max_depth=None, min_child_weight=None,\n                                    missing=nan, monotone_constraints=None,\n                                    n_estimators=150, n_jobs=-1,\n                                    num_parallel_tree=None, predictor=None,\n                                    random_state=0, reg_alpha=None,\n                                    reg_lambda=None, scale_pos_weight=None,\n                                    subsample=None, tree_method=None,\n                                    validate_parameters=None, verbosity=0),\n            param_grid={'learning_rate': [0.2, 0.1], 'max_depth': [10, 12],\n                        'num_leaves': [25, 35]})"
     },
     "metadata": {}
    }
   ]
  },
  {
   "cell_type": "code",
   "source": [
    "model.estimator_, model.best_params_, model.best_score_"
   ],
   "metadata": {
    "execution": {
     "iopub.status.busy": "2022-01-01T11:49:52.493607Z",
     "iopub.execute_input": "2022-01-01T11:49:52.494126Z",
     "iopub.status.idle": "2022-01-01T11:49:52.504649Z",
     "shell.execute_reply.started": "2022-01-01T11:49:52.494081Z",
     "shell.execute_reply": "2022-01-01T11:49:52.503849Z"
    },
    "trusted": true
   },
   "execution_count": 5,
   "outputs": [
    {
     "execution_count": 5,
     "output_type": "execute_result",
     "data": {
      "text/plain": "(XGBClassifier(base_score=0.5, booster='gbtree', colsample_bylevel=1,\n               colsample_bynode=1, colsample_bytree=1, enable_categorical=False,\n               gamma=0, gpu_id=-1, importance_type=None,\n               interaction_constraints='', learning_rate=0.2, max_delta_step=0,\n               max_depth=12, min_child_weight=1, missing=nan,\n               monotone_constraints='()', n_estimators=150, n_jobs=-1,\n               num_leaves=25, num_parallel_tree=1, predictor='auto',\n               random_state=0, reg_alpha=0, reg_lambda=1, scale_pos_weight=1,\n               subsample=1, tree_method='exact', validate_parameters=1,\n               verbosity=0),\n {'learning_rate': 0.2, 'num_leaves': 25, 'max_depth': 12},\n 0.194719)"
     },
     "metadata": {}
    }
   ]
  },
  {
   "cell_type": "code",
   "source": [
    "(model.score(X_clf_valid, y_clf_valid), \n",
    " model.predict(X_clf_valid).shape, \n",
    " model.predict_proba(X_clf_valid).shape)"
   ],
   "metadata": {
    "execution": {
     "iopub.status.busy": "2022-01-01T11:49:52.506201Z",
     "iopub.execute_input": "2022-01-01T11:49:52.506365Z",
     "iopub.status.idle": "2022-01-01T11:49:52.528604Z",
     "shell.execute_reply.started": "2022-01-01T11:49:52.506344Z",
     "shell.execute_reply": "2022-01-01T11:49:52.528078Z"
    },
    "trusted": true
   },
   "execution_count": 6,
   "outputs": [
    {
     "execution_count": 6,
     "output_type": "execute_result",
     "data": {
      "text/plain": "(0.9138888888888889, (1800,), (1800, 2))"
     },
     "metadata": {}
    }
   ]
  },
  {
   "cell_type": "code",
   "source": [
    "### HYPERPARAM TUNING WITH RANDOM-SEARCH ###\n",
    "\n",
    "model = BoostSearch(\n",
    "    regr_xgb, param_grid=param_dist,\n",
    "    n_iter=8, sampling_seed=0\n",
    ")\n",
    "model.fit(X_regr_train, y_regr_train, eval_set=[(X_regr_valid, y_regr_valid)], early_stopping_rounds=6, verbose=0)"
   ],
   "metadata": {
    "execution": {
     "iopub.status.busy": "2022-01-01T11:49:52.529476Z",
     "iopub.execute_input": "2022-01-01T11:49:52.530097Z",
     "iopub.status.idle": "2022-01-01T11:50:03.018637Z",
     "shell.execute_reply.started": "2022-01-01T11:49:52.530066Z",
     "shell.execute_reply": "2022-01-01T11:50:03.017927Z"
    },
    "trusted": true
   },
   "execution_count": 7,
   "outputs": [
    {
     "name": "stdout",
     "text": "\n8 trials detected for ('learning_rate', 'num_leaves', 'max_depth')\n\ntrial: 0001 ### iterations: 00012 ### eval_score: 0.27616\ntrial: 0002 ### iterations: 00056 ### eval_score: 0.26211\ntrial: 0003 ### iterations: 00078 ### eval_score: 0.27603\ntrial: 0004 ### iterations: 00045 ### eval_score: 0.26117\ntrial: 0005 ### iterations: 00046 ### eval_score: 0.27868\ntrial: 0006 ### iterations: 00035 ### eval_score: 0.27815\ntrial: 0007 ### iterations: 00039 ### eval_score: 0.2753\ntrial: 0008 ### iterations: 00016 ### eval_score: 0.28116\n",
     "output_type": "stream"
    },
    {
     "execution_count": 7,
     "output_type": "execute_result",
     "data": {
      "text/plain": "BoostSearch(estimator=XGBRegressor(base_score=None, booster=None,\n                                   colsample_bylevel=None,\n                                   colsample_bynode=None, colsample_bytree=None,\n                                   enable_categorical=False, gamma=None,\n                                   gpu_id=None, importance_type=None,\n                                   interaction_constraints=None,\n                                   learning_rate=None, max_delta_step=None,\n                                   max_depth=None, min_child_weight=None,\n                                   missing=nan, monotone_constraints=None,\n                                   n_estim...\n                                   random_state=0, reg_alpha=None,\n                                   reg_lambda=None, scale_pos_weight=None,\n                                   subsample=None, tree_method=None,\n                                   validate_parameters=None, verbosity=0),\n            n_iter=8,\n            param_grid={'learning_rate': <scipy.stats._distn_infrastructure.rv_frozen object at 0x7f5d29426490>,\n                        'max_depth': [10, 12],\n                        'num_leaves': <scipy.stats._distn_infrastructure.rv_frozen object at 0x7f5d29426710>},\n            sampling_seed=0)"
     },
     "metadata": {}
    }
   ]
  },
  {
   "cell_type": "code",
   "source": [
    "model.estimator_, model.best_params_, model.best_score_"
   ],
   "metadata": {
    "execution": {
     "iopub.status.busy": "2022-01-01T11:50:03.019747Z",
     "iopub.execute_input": "2022-01-01T11:50:03.020416Z",
     "iopub.status.idle": "2022-01-01T11:50:03.030730Z",
     "shell.execute_reply.started": "2022-01-01T11:50:03.020379Z",
     "shell.execute_reply": "2022-01-01T11:50:03.030065Z"
    },
    "trusted": true
   },
   "execution_count": 8,
   "outputs": [
    {
     "execution_count": 8,
     "output_type": "execute_result",
     "data": {
      "text/plain": "(XGBRegressor(base_score=0.5, booster='gbtree', colsample_bylevel=1,\n              colsample_bynode=1, colsample_bytree=1, enable_categorical=False,\n              gamma=0, gpu_id=-1, importance_type=None,\n              interaction_constraints='', learning_rate=0.1669837381562427,\n              max_delta_step=0, max_depth=10, min_child_weight=1, missing=nan,\n              monotone_constraints='()', n_estimators=150, n_jobs=-1,\n              num_leaves=25, num_parallel_tree=1, predictor='auto',\n              random_state=0, reg_alpha=0, reg_lambda=1, scale_pos_weight=1,\n              subsample=1, tree_method='exact', validate_parameters=1,\n              verbosity=0),\n {'learning_rate': 0.1669837381562427, 'num_leaves': 25, 'max_depth': 10},\n 0.26117)"
     },
     "metadata": {}
    }
   ]
  },
  {
   "cell_type": "code",
   "source": [
    "(model.score(X_regr_valid, y_regr_valid), \n",
    " model.predict(X_regr_valid).shape)"
   ],
   "metadata": {
    "execution": {
     "iopub.status.busy": "2022-01-01T11:50:03.032146Z",
     "iopub.execute_input": "2022-01-01T11:50:03.032612Z",
     "iopub.status.idle": "2022-01-01T11:50:03.058721Z",
     "shell.execute_reply.started": "2022-01-01T11:50:03.032572Z",
     "shell.execute_reply": "2022-01-01T11:50:03.058084Z"
    },
    "trusted": true
   },
   "execution_count": 9,
   "outputs": [
    {
     "execution_count": 9,
     "output_type": "execute_result",
     "data": {
      "text/plain": "(0.7271524639165458, (1800,))"
     },
     "metadata": {}
    }
   ]
  },
  {
   "cell_type": "code",
   "source": [
    "### HYPERPARAM TUNING WITH HYPEROPT ###\n",
    "\n",
    "model = BoostSearch(\n",
    "    regr_xgb, param_grid=param_dist_hyperopt,\n",
    "    n_iter=8, sampling_seed=0\n",
    ")\n",
    "model.fit(\n",
    "    X_regr_train, y_regr_train, trials=Trials(), \n",
    "    eval_set=[(X_regr_valid, y_regr_valid)], early_stopping_rounds=6, verbose=0\n",
    ")"
   ],
   "metadata": {
    "execution": {
     "iopub.status.busy": "2022-01-01T11:50:03.059800Z",
     "iopub.execute_input": "2022-01-01T11:50:03.062204Z",
     "iopub.status.idle": "2022-01-01T11:50:32.323625Z",
     "shell.execute_reply.started": "2022-01-01T11:50:03.062158Z",
     "shell.execute_reply": "2022-01-01T11:50:32.322789Z"
    },
    "trusted": true
   },
   "execution_count": 10,
   "outputs": [
    {
     "name": "stdout",
     "text": "\n8 trials detected for ('max_depth', 'learning_rate', 'colsample_bytree')\n\ntrial: 0001 ### iterations: 00149 ### eval_score: 0.27498\ntrial: 0002 ### iterations: 00074 ### eval_score: 0.27186\ntrial: 0003 ### iterations: 00038 ### eval_score: 0.28326\ntrial: 0004 ### iterations: 00149 ### eval_score: 0.29455\ntrial: 0005 ### iterations: 00149 ### eval_score: 0.28037\ntrial: 0006 ### iterations: 00149 ### eval_score: 0.26421\ntrial: 0007 ### iterations: 00052 ### eval_score: 0.27191\ntrial: 0008 ### iterations: 00133 ### eval_score: 0.29251\n",
     "output_type": "stream"
    },
    {
     "execution_count": 10,
     "output_type": "execute_result",
     "data": {
      "text/plain": "BoostSearch(estimator=XGBRegressor(base_score=None, booster=None,\n                                   colsample_bylevel=None,\n                                   colsample_bynode=None, colsample_bytree=None,\n                                   enable_categorical=False, gamma=None,\n                                   gpu_id=None, importance_type=None,\n                                   interaction_constraints=None,\n                                   learning_rate=None, max_delta_step=None,\n                                   max_depth=None, min_child_weight=None,\n                                   missing=nan, monotone_constraints=None,\n                                   n_estim...\n                                   random_state=0, reg_alpha=None,\n                                   reg_lambda=None, scale_pos_weight=None,\n                                   subsample=None, tree_method=None,\n                                   validate_parameters=None, verbosity=0),\n            n_iter=8,\n            param_grid={'colsample_bytree': <hyperopt.pyll.base.Apply object at 0x7f5d29426890>,\n                        'learning_rate': <hyperopt.pyll.base.Apply object at 0x7f5d29426a50>,\n                        'max_depth': <hyperopt.pyll.base.Apply object at 0x7f5d29426790>},\n            sampling_seed=0)"
     },
     "metadata": {}
    }
   ]
  },
  {
   "cell_type": "code",
   "source": [
    "model.estimator_, model.best_params_, model.best_score_"
   ],
   "metadata": {
    "execution": {
     "iopub.status.busy": "2022-01-01T11:50:32.324994Z",
     "iopub.execute_input": "2022-01-01T11:50:32.325480Z",
     "iopub.status.idle": "2022-01-01T11:50:32.335828Z",
     "shell.execute_reply.started": "2022-01-01T11:50:32.325441Z",
     "shell.execute_reply": "2022-01-01T11:50:32.334970Z"
    },
    "trusted": true
   },
   "execution_count": 11,
   "outputs": [
    {
     "execution_count": 11,
     "output_type": "execute_result",
     "data": {
      "text/plain": "(XGBRegressor(base_score=0.5, booster='gbtree', colsample_bylevel=1,\n              colsample_bynode=1, colsample_bytree=0.7597292534356749,\n              enable_categorical=False, gamma=0, gpu_id=-1, importance_type=None,\n              interaction_constraints='', learning_rate=0.059836658149176665,\n              max_delta_step=0, max_depth=16, min_child_weight=1, missing=nan,\n              monotone_constraints='()', n_estimators=150, n_jobs=-1,\n              num_parallel_tree=1, predictor='auto', random_state=0, reg_alpha=0,\n              reg_lambda=1, scale_pos_weight=1, subsample=1, tree_method='exact',\n              validate_parameters=1, verbosity=0),\n {'colsample_bytree': 0.7597292534356749,\n  'learning_rate': 0.059836658149176665,\n  'max_depth': 16},\n 0.264211)"
     },
     "metadata": {}
    }
   ]
  },
  {
   "cell_type": "code",
   "source": [
    "(model.score(X_regr_valid, y_regr_valid), \n",
    " model.predict(X_regr_valid).shape)"
   ],
   "metadata": {
    "execution": {
     "iopub.status.busy": "2022-01-01T11:50:32.337011Z",
     "iopub.execute_input": "2022-01-01T11:50:32.337395Z",
     "iopub.status.idle": "2022-01-01T11:50:32.370381Z",
     "shell.execute_reply.started": "2022-01-01T11:50:32.337369Z",
     "shell.execute_reply": "2022-01-01T11:50:32.369816Z"
    },
    "trusted": true
   },
   "execution_count": 12,
   "outputs": [
    {
     "execution_count": 12,
     "output_type": "execute_result",
     "data": {
      "text/plain": "(0.7207605727361562, (1800,))"
     },
     "metadata": {}
    }
   ]
  },
  {
   "cell_type": "markdown",
   "source": [
    "# Features Selection"
   ],
   "metadata": {}
  },
  {
   "cell_type": "code",
   "source": [
    "### BORUTA ###\n",
    "\n",
    "model = BoostBoruta(clf_xgb, max_iter=200, perc=100)\n",
    "model.fit(X_clf_train, y_clf_train, eval_set=[(X_clf_valid, y_clf_valid)], early_stopping_rounds=6, verbose=0)"
   ],
   "metadata": {
    "execution": {
     "iopub.status.busy": "2022-01-01T11:50:32.371634Z",
     "iopub.execute_input": "2022-01-01T11:50:32.372109Z",
     "iopub.status.idle": "2022-01-01T11:50:50.797541Z",
     "shell.execute_reply.started": "2022-01-01T11:50:32.372066Z",
     "shell.execute_reply": "2022-01-01T11:50:50.797059Z"
    },
    "trusted": true
   },
   "execution_count": 13,
   "outputs": [
    {
     "execution_count": 13,
     "output_type": "execute_result",
     "data": {
      "text/plain": "BoostBoruta(estimator=XGBClassifier(base_score=None, booster=None,\n                                    colsample_bylevel=None,\n                                    colsample_bynode=None,\n                                    colsample_bytree=None,\n                                    enable_categorical=False, gamma=None,\n                                    gpu_id=None, importance_type=None,\n                                    interaction_constraints=None,\n                                    learning_rate=None, max_delta_step=None,\n                                    max_depth=None, min_child_weight=None,\n                                    missing=nan, monotone_constraints=None,\n                                    n_estimators=150, n_jobs=-1,\n                                    num_parallel_tree=None, predictor=None,\n                                    random_state=0, reg_alpha=None,\n                                    reg_lambda=None, scale_pos_weight=None,\n                                    subsample=None, tree_method=None,\n                                    validate_parameters=None, verbosity=0),\n            max_iter=200)"
     },
     "metadata": {}
    }
   ]
  },
  {
   "cell_type": "code",
   "source": [
    "model.estimator_, model.n_features_"
   ],
   "metadata": {
    "execution": {
     "iopub.status.busy": "2022-01-01T11:50:50.800394Z",
     "iopub.execute_input": "2022-01-01T11:50:50.800795Z",
     "iopub.status.idle": "2022-01-01T11:50:50.809566Z",
     "shell.execute_reply.started": "2022-01-01T11:50:50.800767Z",
     "shell.execute_reply": "2022-01-01T11:50:50.808911Z"
    },
    "trusted": true
   },
   "execution_count": 14,
   "outputs": [
    {
     "execution_count": 14,
     "output_type": "execute_result",
     "data": {
      "text/plain": "(XGBClassifier(base_score=0.5, booster='gbtree', colsample_bylevel=1,\n               colsample_bynode=1, colsample_bytree=1, enable_categorical=False,\n               gamma=0, gpu_id=-1, importance_type=None,\n               interaction_constraints='', learning_rate=0.300000012,\n               max_delta_step=0, max_depth=6, min_child_weight=1, missing=nan,\n               monotone_constraints='()', n_estimators=150, n_jobs=-1,\n               num_parallel_tree=1, predictor='auto', random_state=0,\n               reg_alpha=0, reg_lambda=1, scale_pos_weight=1, subsample=1,\n               tree_method='exact', validate_parameters=1, verbosity=0),\n 11)"
     },
     "metadata": {}
    }
   ]
  },
  {
   "cell_type": "code",
   "source": [
    "(model.score(X_clf_valid, y_clf_valid), \n",
    " model.predict(X_clf_valid).shape, \n",
    " model.transform(X_clf_valid).shape,\n",
    " model.predict_proba(X_clf_valid).shape)"
   ],
   "metadata": {
    "execution": {
     "iopub.status.busy": "2022-01-01T11:50:50.810633Z",
     "iopub.execute_input": "2022-01-01T11:50:50.811078Z",
     "iopub.status.idle": "2022-01-01T11:50:50.834426Z",
     "shell.execute_reply.started": "2022-01-01T11:50:50.811040Z",
     "shell.execute_reply": "2022-01-01T11:50:50.833776Z"
    },
    "trusted": true
   },
   "execution_count": 15,
   "outputs": [
    {
     "execution_count": 15,
     "output_type": "execute_result",
     "data": {
      "text/plain": "(0.9161111111111111, (1800,), (1800, 11), (1800, 2))"
     },
     "metadata": {}
    }
   ]
  },
  {
   "cell_type": "code",
   "source": [
    "### RECURSIVE FEATURE ELIMINATION (RFE) ###\n",
    "\n",
    "model = BoostRFE(regr_xgb, min_features_to_select=1, step=1)\n",
    "model.fit(X_regr_train, y_regr_train, eval_set=[(X_regr_valid, y_regr_valid)], early_stopping_rounds=6, verbose=0)"
   ],
   "metadata": {
    "execution": {
     "iopub.status.busy": "2022-01-01T11:50:50.835608Z",
     "iopub.execute_input": "2022-01-01T11:50:50.836142Z",
     "iopub.status.idle": "2022-01-01T11:50:58.558180Z",
     "shell.execute_reply.started": "2022-01-01T11:50:50.836100Z",
     "shell.execute_reply": "2022-01-01T11:50:58.557365Z"
    },
    "trusted": true
   },
   "execution_count": 16,
   "outputs": [
    {
     "execution_count": 16,
     "output_type": "execute_result",
     "data": {
      "text/plain": "BoostRFE(estimator=XGBRegressor(base_score=None, booster=None,\n                                colsample_bylevel=None, colsample_bynode=None,\n                                colsample_bytree=None, enable_categorical=False,\n                                gamma=None, gpu_id=None, importance_type=None,\n                                interaction_constraints=None,\n                                learning_rate=None, max_delta_step=None,\n                                max_depth=None, min_child_weight=None,\n                                missing=nan, monotone_constraints=None,\n                                n_estimators=150, n_jobs=-1,\n                                num_parallel_tree=None, predictor=None,\n                                random_state=0, reg_alpha=None, reg_lambda=None,\n                                scale_pos_weight=None, subsample=None,\n                                tree_method=None, validate_parameters=None,\n                                verbosity=0),\n         min_features_to_select=1)"
     },
     "metadata": {}
    }
   ]
  },
  {
   "cell_type": "code",
   "source": [
    "model.estimator_, model.n_features_"
   ],
   "metadata": {
    "execution": {
     "iopub.status.busy": "2022-01-01T11:50:58.559585Z",
     "iopub.execute_input": "2022-01-01T11:50:58.560110Z",
     "iopub.status.idle": "2022-01-01T11:50:58.569301Z",
     "shell.execute_reply.started": "2022-01-01T11:50:58.560048Z",
     "shell.execute_reply": "2022-01-01T11:50:58.568542Z"
    },
    "trusted": true
   },
   "execution_count": 17,
   "outputs": [
    {
     "execution_count": 17,
     "output_type": "execute_result",
     "data": {
      "text/plain": "(XGBRegressor(base_score=0.5, booster='gbtree', colsample_bylevel=1,\n              colsample_bynode=1, colsample_bytree=1, enable_categorical=False,\n              gamma=0, gpu_id=-1, importance_type=None,\n              interaction_constraints='', learning_rate=0.300000012,\n              max_delta_step=0, max_depth=6, min_child_weight=1, missing=nan,\n              monotone_constraints='()', n_estimators=150, n_jobs=-1,\n              num_parallel_tree=1, predictor='auto', random_state=0, reg_alpha=0,\n              reg_lambda=1, scale_pos_weight=1, subsample=1, tree_method='exact',\n              validate_parameters=1, verbosity=0),\n 7)"
     },
     "metadata": {}
    }
   ]
  },
  {
   "cell_type": "code",
   "source": [
    "(model.score(X_regr_valid, y_regr_valid), \n",
    " model.predict(X_regr_valid).shape, \n",
    " model.transform(X_regr_valid).shape)"
   ],
   "metadata": {
    "execution": {
     "iopub.status.busy": "2022-01-01T11:50:58.570558Z",
     "iopub.execute_input": "2022-01-01T11:50:58.570828Z",
     "iopub.status.idle": "2022-01-01T11:50:58.584624Z",
     "shell.execute_reply.started": "2022-01-01T11:50:58.570792Z",
     "shell.execute_reply": "2022-01-01T11:50:58.584081Z"
    },
    "trusted": true
   },
   "execution_count": 18,
   "outputs": [
    {
     "execution_count": 18,
     "output_type": "execute_result",
     "data": {
      "text/plain": "(0.7317444492376407, (1800,), (1800, 7))"
     },
     "metadata": {}
    }
   ]
  },
  {
   "cell_type": "code",
   "source": [
    "### RECURSIVE FEATURE ADDITION (RFA) ###\n",
    "\n",
    "model = BoostRFA(regr_xgb, min_features_to_select=1, step=1)\n",
    "model.fit(X_regr_train, y_regr_train, eval_set=[(X_regr_valid, y_regr_valid)], early_stopping_rounds=6, verbose=0)"
   ],
   "metadata": {
    "execution": {
     "iopub.status.busy": "2022-01-01T11:50:58.585749Z",
     "iopub.execute_input": "2022-01-01T11:50:58.586163Z",
     "iopub.status.idle": "2022-01-01T11:51:09.404587Z",
     "shell.execute_reply.started": "2022-01-01T11:50:58.586126Z",
     "shell.execute_reply": "2022-01-01T11:51:09.403781Z"
    },
    "trusted": true
   },
   "execution_count": 12,
   "outputs": [
    {
     "data": {
      "text/plain": "BoostRFA(estimator=XGBRegressor(base_score=None, booster=None,\n                                colsample_bylevel=None, colsample_bynode=None,\n                                colsample_bytree=None, gamma=None, gpu_id=None,\n                                importance_type='gain',\n                                interaction_constraints=None,\n                                learning_rate=None, max_delta_step=None,\n                                max_depth=None, min_child_weight=None,\n                                missing=nan, monotone_constraints=None,\n                                n_estimators=150, n_jobs=-1,\n                                num_parallel_tree=None, random_state=0,\n                                reg_alpha=None, reg_lambda=None,\n                                scale_pos_weight=None, subsample=None,\n                                tree_method=None, validate_parameters=None,\n                                verbosity=0),\n         min_features_to_select=2, step=5)"
     },
     "execution_count": 12,
     "metadata": {},
     "output_type": "execute_result"
    }
   ]
  },
  {
   "cell_type": "code",
   "source": [
    "model.estimator_, model.n_features_"
   ],
   "metadata": {
    "execution": {
     "iopub.status.busy": "2022-01-01T11:51:09.406057Z",
     "iopub.execute_input": "2022-01-01T11:51:09.406434Z",
     "iopub.status.idle": "2022-01-01T11:51:09.416068Z",
     "shell.execute_reply.started": "2022-01-01T11:51:09.406399Z",
     "shell.execute_reply": "2022-01-01T11:51:09.415411Z"
    },
    "trusted": true
   },
   "execution_count": 5,
   "outputs": [
    {
     "data": {
      "text/plain": "(XGBRegressor(base_score=0.5, booster='gbtree', colsample_bylevel=1,\n              colsample_bynode=1, colsample_bytree=1, gamma=0, gpu_id=-1,\n              importance_type='gain', interaction_constraints='',\n              learning_rate=0.300000012, max_delta_step=0, max_depth=6,\n              min_child_weight=1, missing=nan, monotone_constraints='()',\n              n_estimators=150, n_jobs=-1, num_parallel_tree=1, random_state=0,\n              reg_alpha=0, reg_lambda=1, scale_pos_weight=1, subsample=1,\n              tree_method='exact', validate_parameters=1, verbosity=0), 8)"
     },
     "execution_count": 5,
     "metadata": {},
     "output_type": "execute_result"
    }
   ]
  },
  {
   "cell_type": "code",
   "source": [
    "(model.score(X_regr_valid, y_regr_valid), \n",
    " model.predict(X_regr_valid).shape, \n",
    " model.transform(X_regr_valid).shape)"
   ],
   "metadata": {
    "execution": {
     "iopub.status.busy": "2022-01-01T11:51:09.417248Z",
     "iopub.execute_input": "2022-01-01T11:51:09.417698Z",
     "iopub.status.idle": "2022-01-01T11:51:09.450280Z",
     "shell.execute_reply.started": "2022-01-01T11:51:09.417657Z",
     "shell.execute_reply": "2022-01-01T11:51:09.449664Z"
    },
    "trusted": true
   },
   "execution_count": 6,
   "outputs": [
    {
     "data": {
      "text/plain": "(0.7274037362877257, (1800,), (1800, 8))"
     },
     "execution_count": 6,
     "metadata": {},
     "output_type": "execute_result"
    }
   ]
  },
  {
   "cell_type": "code",
   "execution_count": 4,
   "outputs": [
    {
     "data": {
      "text/plain": "BoostRFA(estimator=XGBRegressor(base_score=None, booster=None,\n                                colsample_bylevel=None, colsample_bynode=None,\n                                colsample_bytree=None, gamma=None, gpu_id=None,\n                                importance_type='gain',\n                                interaction_constraints=None,\n                                learning_rate=None, max_delta_step=None,\n                                max_depth=None, min_child_weight=None,\n                                missing=nan, monotone_constraints=None,\n                                n_estimators=150, n_jobs=-1,\n                                num_parallel_tree=None, random_state=0,\n                                reg_alpha=None, reg_lambda=None,\n                                scale_pos_weight=None, subsample=None,\n                                tree_method=None, validate_parameters=None,\n                                verbosity=0),\n         min_features_to_select=1)"
     },
     "execution_count": 4,
     "metadata": {},
     "output_type": "execute_result"
    }
   ],
   "source": [
    "### RECURSIVE FEATURE ADDITION WITH WARM START (RFA WITH WARM START) ###\n",
    "\n",
    "model = BoostRFA(regr_xgb, min_features_to_select=1, step=1)\n",
    "model.fit(X_regr_train, y_regr_train,\n",
    "          eval_set=[(X_regr_valid, y_regr_valid)], early_stopping_rounds=6, verbose=0,\n",
    "          fixed_features=[0, 2, 8])"
   ],
   "metadata": {
    "collapsed": false,
    "pycharm": {
     "name": "#%%\n"
    }
   }
  },
  {
   "cell_type": "code",
   "execution_count": 5,
   "outputs": [
    {
     "data": {
      "text/plain": "(XGBRegressor(base_score=0.5, booster='gbtree', colsample_bylevel=1,\n              colsample_bynode=1, colsample_bytree=1, gamma=0, gpu_id=-1,\n              importance_type='gain', interaction_constraints='',\n              learning_rate=0.300000012, max_delta_step=0, max_depth=6,\n              min_child_weight=1, missing=nan, monotone_constraints='()',\n              n_estimators=150, n_jobs=-1, num_parallel_tree=1, random_state=0,\n              reg_alpha=0, reg_lambda=1, scale_pos_weight=1, subsample=1,\n              tree_method='exact', validate_parameters=1, verbosity=0), 12)"
     },
     "execution_count": 5,
     "metadata": {},
     "output_type": "execute_result"
    }
   ],
   "source": [
    "model.estimator_, model.n_features_"
   ],
   "metadata": {
    "collapsed": false,
    "pycharm": {
     "name": "#%%\n"
    }
   }
  },
  {
   "cell_type": "code",
   "execution_count": 6,
   "outputs": [
    {
     "data": {
      "text/plain": "(0.701048485681083, (1800,), (1800, 12))"
     },
     "execution_count": 6,
     "metadata": {},
     "output_type": "execute_result"
    }
   ],
   "source": [
    "(model.score(X_regr_valid, y_regr_valid),\n",
    " model.predict(X_regr_valid).shape,\n",
    " model.transform(X_regr_valid).shape)"
   ],
   "metadata": {
    "collapsed": false,
    "pycharm": {
     "name": "#%%\n"
    }
   }
  },
  {
   "cell_type": "markdown",
   "source": [
    "# Features Selection with SHAP"
   ],
   "metadata": {}
  },
  {
   "cell_type": "code",
   "source": [
    "### BORUTA SHAP ###\n",
    "\n",
    "model = BoostBoruta(\n",
    "    clf_xgb, max_iter=200, perc=100,\n",
    "    importance_type='shap_importances', train_importance=False\n",
    ")\n",
    "model.fit(X_clf_train, y_clf_train, eval_set=[(X_clf_valid, y_clf_valid)], early_stopping_rounds=6, verbose=0)"
   ],
   "metadata": {
    "execution": {
     "iopub.status.busy": "2022-01-01T11:51:09.451169Z",
     "iopub.execute_input": "2022-01-01T11:51:09.451507Z",
     "iopub.status.idle": "2022-01-01T11:51:33.925757Z",
     "shell.execute_reply.started": "2022-01-01T11:51:09.451482Z",
     "shell.execute_reply": "2022-01-01T11:51:33.925076Z"
    },
    "trusted": true
   },
   "execution_count": 22,
   "outputs": [
    {
     "execution_count": 22,
     "output_type": "execute_result",
     "data": {
      "text/plain": "BoostBoruta(estimator=XGBClassifier(base_score=None, booster=None,\n                                    colsample_bylevel=None,\n                                    colsample_bynode=None,\n                                    colsample_bytree=None,\n                                    enable_categorical=False, gamma=None,\n                                    gpu_id=None, importance_type=None,\n                                    interaction_constraints=None,\n                                    learning_rate=None, max_delta_step=None,\n                                    max_depth=None, min_child_weight=None,\n                                    missing=nan, monotone_constraints=None,\n                                    n_estimators=150, n_jobs=-1,\n                                    num_parallel_tree=None, predictor=None,\n                                    random_state=0, reg_alpha=None,\n                                    reg_lambda=None, scale_pos_weight=None,\n                                    subsample=None, tree_method=None,\n                                    validate_parameters=None, verbosity=0),\n            importance_type='shap_importances', max_iter=200,\n            train_importance=False)"
     },
     "metadata": {}
    }
   ]
  },
  {
   "cell_type": "code",
   "source": [
    "model.estimator_, model.n_features_"
   ],
   "metadata": {
    "execution": {
     "iopub.status.busy": "2022-01-01T11:51:33.926762Z",
     "iopub.execute_input": "2022-01-01T11:51:33.926940Z",
     "iopub.status.idle": "2022-01-01T11:51:33.934907Z",
     "shell.execute_reply.started": "2022-01-01T11:51:33.926918Z",
     "shell.execute_reply": "2022-01-01T11:51:33.934315Z"
    },
    "trusted": true
   },
   "execution_count": 23,
   "outputs": [
    {
     "execution_count": 23,
     "output_type": "execute_result",
     "data": {
      "text/plain": "(XGBClassifier(base_score=0.5, booster='gbtree', colsample_bylevel=1,\n               colsample_bynode=1, colsample_bytree=1, enable_categorical=False,\n               gamma=0, gpu_id=-1, importance_type=None,\n               interaction_constraints='', learning_rate=0.300000012,\n               max_delta_step=0, max_depth=6, min_child_weight=1, missing=nan,\n               monotone_constraints='()', n_estimators=150, n_jobs=-1,\n               num_parallel_tree=1, predictor='auto', random_state=0,\n               reg_alpha=0, reg_lambda=1, scale_pos_weight=1, subsample=1,\n               tree_method='exact', validate_parameters=1, verbosity=0),\n 10)"
     },
     "metadata": {}
    }
   ]
  },
  {
   "cell_type": "code",
   "source": [
    "(model.score(X_clf_valid, y_clf_valid), \n",
    " model.predict(X_clf_valid).shape, \n",
    " model.transform(X_clf_valid).shape,\n",
    " model.predict_proba(X_clf_valid).shape)"
   ],
   "metadata": {
    "execution": {
     "iopub.status.busy": "2022-01-01T11:51:33.935950Z",
     "iopub.execute_input": "2022-01-01T11:51:33.936419Z",
     "iopub.status.idle": "2022-01-01T11:51:33.961319Z",
     "shell.execute_reply.started": "2022-01-01T11:51:33.936381Z",
     "shell.execute_reply": "2022-01-01T11:51:33.960533Z"
    },
    "trusted": true
   },
   "execution_count": 24,
   "outputs": [
    {
     "execution_count": 24,
     "output_type": "execute_result",
     "data": {
      "text/plain": "(0.91, (1800,), (1800, 10), (1800, 2))"
     },
     "metadata": {}
    }
   ]
  },
  {
   "cell_type": "code",
   "source": [
    "### RECURSIVE FEATURE ELIMINATION (RFE) SHAP ###\n",
    "\n",
    "model = BoostRFE(\n",
    "    regr_xgb, min_features_to_select=1, step=1,\n",
    "    importance_type='shap_importances', train_importance=False\n",
    ")\n",
    "model.fit(X_regr_train, y_regr_train, eval_set=[(X_regr_valid, y_regr_valid)], early_stopping_rounds=6, verbose=0)"
   ],
   "metadata": {
    "execution": {
     "iopub.status.busy": "2022-01-01T11:51:33.962369Z",
     "iopub.execute_input": "2022-01-01T11:51:33.962555Z",
     "iopub.status.idle": "2022-01-01T11:51:47.059712Z",
     "shell.execute_reply.started": "2022-01-01T11:51:33.962532Z",
     "shell.execute_reply": "2022-01-01T11:51:47.058892Z"
    },
    "trusted": true
   },
   "execution_count": 25,
   "outputs": [
    {
     "execution_count": 25,
     "output_type": "execute_result",
     "data": {
      "text/plain": "BoostRFE(estimator=XGBRegressor(base_score=None, booster=None,\n                                colsample_bylevel=None, colsample_bynode=None,\n                                colsample_bytree=None, enable_categorical=False,\n                                gamma=None, gpu_id=None, importance_type=None,\n                                interaction_constraints=None,\n                                learning_rate=None, max_delta_step=None,\n                                max_depth=None, min_child_weight=None,\n                                missing=nan, monotone_constraints=None,\n                                n_estimators=150, n_jobs=-1,\n                                num_parallel_tree=None, predictor=None,\n                                random_state=0, reg_alpha=None, reg_lambda=None,\n                                scale_pos_weight=None, subsample=None,\n                                tree_method=None, validate_parameters=None,\n                                verbosity=0),\n         importance_type='shap_importances', min_features_to_select=1,\n         train_importance=False)"
     },
     "metadata": {}
    }
   ]
  },
  {
   "cell_type": "code",
   "source": [
    "model.estimator_, model.n_features_"
   ],
   "metadata": {
    "execution": {
     "iopub.status.busy": "2022-01-01T11:51:47.060847Z",
     "iopub.execute_input": "2022-01-01T11:51:47.061090Z",
     "iopub.status.idle": "2022-01-01T11:51:47.069229Z",
     "shell.execute_reply.started": "2022-01-01T11:51:47.061061Z",
     "shell.execute_reply": "2022-01-01T11:51:47.068462Z"
    },
    "trusted": true
   },
   "execution_count": 26,
   "outputs": [
    {
     "execution_count": 26,
     "output_type": "execute_result",
     "data": {
      "text/plain": "(XGBRegressor(base_score=0.5, booster='gbtree', colsample_bylevel=1,\n              colsample_bynode=1, colsample_bytree=1, enable_categorical=False,\n              gamma=0, gpu_id=-1, importance_type=None,\n              interaction_constraints='', learning_rate=0.300000012,\n              max_delta_step=0, max_depth=6, min_child_weight=1, missing=nan,\n              monotone_constraints='()', n_estimators=150, n_jobs=-1,\n              num_parallel_tree=1, predictor='auto', random_state=0, reg_alpha=0,\n              reg_lambda=1, scale_pos_weight=1, subsample=1, tree_method='exact',\n              validate_parameters=1, verbosity=0),\n 7)"
     },
     "metadata": {}
    }
   ]
  },
  {
   "cell_type": "code",
   "source": [
    "(model.score(X_regr_valid, y_regr_valid), \n",
    " model.predict(X_regr_valid).shape, \n",
    " model.transform(X_regr_valid).shape)"
   ],
   "metadata": {
    "execution": {
     "iopub.status.busy": "2022-01-01T11:51:47.070353Z",
     "iopub.execute_input": "2022-01-01T11:51:47.071217Z",
     "iopub.status.idle": "2022-01-01T11:51:47.087333Z",
     "shell.execute_reply.started": "2022-01-01T11:51:47.071168Z",
     "shell.execute_reply": "2022-01-01T11:51:47.086754Z"
    },
    "trusted": true
   },
   "execution_count": 27,
   "outputs": [
    {
     "execution_count": 27,
     "output_type": "execute_result",
     "data": {
      "text/plain": "(0.7317444492376407, (1800,), (1800, 7))"
     },
     "metadata": {}
    }
   ]
  },
  {
   "cell_type": "code",
   "source": [
    "### RECURSIVE FEATURE ADDITION (RFA) SHAP ###\n",
    "\n",
    "model = BoostRFA(\n",
    "    regr_xgb, min_features_to_select=1, step=1,\n",
    "    importance_type='shap_importances', train_importance=False\n",
    ")\n",
    "model.fit(\n",
    "    X_regr_train, y_regr_train, trials=Trials(), \n",
    "    eval_set=[(X_regr_valid, y_regr_valid)], early_stopping_rounds=6, verbose=0\n",
    ")"
   ],
   "metadata": {
    "execution": {
     "iopub.status.busy": "2022-01-01T11:51:47.088455Z",
     "iopub.execute_input": "2022-01-01T11:51:47.088921Z",
     "iopub.status.idle": "2022-01-01T11:51:59.186202Z",
     "shell.execute_reply.started": "2022-01-01T11:51:47.088885Z",
     "shell.execute_reply": "2022-01-01T11:51:59.185431Z"
    },
    "trusted": true
   },
   "execution_count": 28,
   "outputs": [
    {
     "execution_count": 28,
     "output_type": "execute_result",
     "data": {
      "text/plain": "BoostRFA(estimator=XGBRegressor(base_score=None, booster=None,\n                                colsample_bylevel=None, colsample_bynode=None,\n                                colsample_bytree=None, enable_categorical=False,\n                                gamma=None, gpu_id=None, importance_type=None,\n                                interaction_constraints=None,\n                                learning_rate=None, max_delta_step=None,\n                                max_depth=None, min_child_weight=None,\n                                missing=nan, monotone_constraints=None,\n                                n_estimators=150, n_jobs=-1,\n                                num_parallel_tree=None, predictor=None,\n                                random_state=0, reg_alpha=None, reg_lambda=None,\n                                scale_pos_weight=None, subsample=None,\n                                tree_method=None, validate_parameters=None,\n                                verbosity=0),\n         importance_type='shap_importances', min_features_to_select=1,\n         train_importance=False)"
     },
     "metadata": {}
    }
   ]
  },
  {
   "cell_type": "code",
   "source": [
    "model.estimator_, model.n_features_"
   ],
   "metadata": {
    "execution": {
     "iopub.status.busy": "2022-01-01T11:51:59.187276Z",
     "iopub.execute_input": "2022-01-01T11:51:59.188081Z",
     "iopub.status.idle": "2022-01-01T11:51:59.199276Z",
     "shell.execute_reply.started": "2022-01-01T11:51:59.188004Z",
     "shell.execute_reply": "2022-01-01T11:51:59.198325Z"
    },
    "trusted": true
   },
   "execution_count": 29,
   "outputs": [
    {
     "execution_count": 29,
     "output_type": "execute_result",
     "data": {
      "text/plain": "(XGBRegressor(base_score=0.5, booster='gbtree', colsample_bylevel=1,\n              colsample_bynode=1, colsample_bytree=1, enable_categorical=False,\n              gamma=0, gpu_id=-1, importance_type=None,\n              interaction_constraints='', learning_rate=0.300000012,\n              max_delta_step=0, max_depth=6, min_child_weight=1, missing=nan,\n              monotone_constraints='()', n_estimators=150, n_jobs=-1,\n              num_parallel_tree=1, predictor='auto', random_state=0, reg_alpha=0,\n              reg_lambda=1, scale_pos_weight=1, subsample=1, tree_method='exact',\n              validate_parameters=1, verbosity=0),\n 9)"
     },
     "metadata": {}
    }
   ]
  },
  {
   "cell_type": "code",
   "source": [
    "(model.score(X_regr_valid, y_regr_valid), \n",
    " model.predict(X_regr_valid).shape, \n",
    " model.transform(X_regr_valid).shape)"
   ],
   "metadata": {
    "execution": {
     "iopub.status.busy": "2022-01-01T11:51:59.200366Z",
     "iopub.execute_input": "2022-01-01T11:51:59.200640Z",
     "iopub.status.idle": "2022-01-01T11:51:59.222774Z",
     "shell.execute_reply.started": "2022-01-01T11:51:59.200592Z",
     "shell.execute_reply": "2022-01-01T11:51:59.222078Z"
    },
    "trusted": true
   },
   "execution_count": 30,
   "outputs": [
    {
     "execution_count": 30,
     "output_type": "execute_result",
     "data": {
      "text/plain": "(0.7249664284333042, (1800,), (1800, 9))"
     },
     "metadata": {}
    }
   ]
  },
  {
   "cell_type": "markdown",
   "source": [
    "# Hyperparameters Tuning + Features Selection"
   ],
   "metadata": {}
  },
  {
   "cell_type": "code",
   "source": [
    "### HYPERPARAM TUNING WITH GRID-SEARCH + BORUTA ###\n",
    "\n",
    "model = BoostBoruta(clf_xgb, param_grid=param_grid, max_iter=200, perc=100)\n",
    "model.fit(X_clf_train, y_clf_train, eval_set=[(X_clf_valid, y_clf_valid)], early_stopping_rounds=6, verbose=0)"
   ],
   "metadata": {
    "execution": {
     "iopub.status.busy": "2022-01-01T11:51:59.224176Z",
     "iopub.execute_input": "2022-01-01T11:51:59.224707Z",
     "iopub.status.idle": "2022-01-01T12:14:09.045290Z",
     "shell.execute_reply.started": "2022-01-01T11:51:59.224667Z",
     "shell.execute_reply": "2022-01-01T12:14:09.044649Z"
    },
    "trusted": true
   },
   "execution_count": 31,
   "outputs": [
    {
     "name": "stdout",
     "text": "\n8 trials detected for ('learning_rate', 'num_leaves', 'max_depth')\n\ntrial: 0001 ### iterations: 00026 ### eval_score: 0.20001\ntrial: 0002 ### iterations: 00022 ### eval_score: 0.20348\ntrial: 0003 ### iterations: 00026 ### eval_score: 0.20001\ntrial: 0004 ### iterations: 00022 ### eval_score: 0.20348\ntrial: 0005 ### iterations: 00048 ### eval_score: 0.19925\ntrial: 0006 ### iterations: 00052 ### eval_score: 0.20307\ntrial: 0007 ### iterations: 00048 ### eval_score: 0.19925\ntrial: 0008 ### iterations: 00052 ### eval_score: 0.20307\n",
     "output_type": "stream"
    },
    {
     "execution_count": 31,
     "output_type": "execute_result",
     "data": {
      "text/plain": "BoostBoruta(estimator=XGBClassifier(base_score=None, booster=None,\n                                    colsample_bylevel=None,\n                                    colsample_bynode=None,\n                                    colsample_bytree=None,\n                                    enable_categorical=False, gamma=None,\n                                    gpu_id=None, importance_type=None,\n                                    interaction_constraints=None,\n                                    learning_rate=None, max_delta_step=None,\n                                    max_depth=None, min_child_weight=None,\n                                    missing=nan, monotone_constraints=None,\n                                    n_estimators=150, n_jobs=-1,\n                                    num_parallel_tree=None, predictor=None,\n                                    random_state=0, reg_alpha=None,\n                                    reg_lambda=None, scale_pos_weight=None,\n                                    subsample=None, tree_method=None,\n                                    validate_parameters=None, verbosity=0),\n            max_iter=200,\n            param_grid={'learning_rate': [0.2, 0.1], 'max_depth': [10, 12],\n                        'num_leaves': [25, 35]})"
     },
     "metadata": {}
    }
   ]
  },
  {
   "cell_type": "code",
   "source": [
    "model.estimator_, model.best_params_, model.best_score_, model.n_features_"
   ],
   "metadata": {
    "execution": {
     "iopub.status.busy": "2022-01-01T12:14:09.046490Z",
     "iopub.execute_input": "2022-01-01T12:14:09.047104Z",
     "iopub.status.idle": "2022-01-01T12:14:09.056559Z",
     "shell.execute_reply.started": "2022-01-01T12:14:09.047070Z",
     "shell.execute_reply": "2022-01-01T12:14:09.056076Z"
    },
    "trusted": true
   },
   "execution_count": 32,
   "outputs": [
    {
     "execution_count": 32,
     "output_type": "execute_result",
     "data": {
      "text/plain": "(XGBClassifier(base_score=0.5, booster='gbtree', colsample_bylevel=1,\n               colsample_bynode=1, colsample_bytree=1, enable_categorical=False,\n               gamma=0, gpu_id=-1, importance_type=None,\n               interaction_constraints='', learning_rate=0.1, max_delta_step=0,\n               max_depth=10, min_child_weight=1, missing=nan,\n               monotone_constraints='()', n_estimators=150, n_jobs=-1,\n               num_leaves=25, num_parallel_tree=1, predictor='auto',\n               random_state=0, reg_alpha=0, reg_lambda=1, scale_pos_weight=1,\n               subsample=1, tree_method='exact', validate_parameters=1,\n               verbosity=0),\n {'learning_rate': 0.1, 'num_leaves': 25, 'max_depth': 10},\n 0.199248,\n 11)"
     },
     "metadata": {}
    }
   ]
  },
  {
   "cell_type": "code",
   "source": [
    "(model.score(X_clf_valid, y_clf_valid), \n",
    " model.predict(X_clf_valid).shape, \n",
    " model.transform(X_clf_valid).shape,\n",
    " model.predict_proba(X_clf_valid).shape)"
   ],
   "metadata": {
    "execution": {
     "iopub.status.busy": "2022-01-01T12:14:09.057462Z",
     "iopub.execute_input": "2022-01-01T12:14:09.057740Z",
     "iopub.status.idle": "2022-01-01T12:14:09.086612Z",
     "shell.execute_reply.started": "2022-01-01T12:14:09.057716Z",
     "shell.execute_reply": "2022-01-01T12:14:09.085920Z"
    },
    "trusted": true
   },
   "execution_count": 33,
   "outputs": [
    {
     "execution_count": 33,
     "output_type": "execute_result",
     "data": {
      "text/plain": "(0.9144444444444444, (1800,), (1800, 11), (1800, 2))"
     },
     "metadata": {}
    }
   ]
  },
  {
   "cell_type": "code",
   "source": [
    "### HYPERPARAM TUNING WITH RANDOM-SEARCH + RECURSIVE FEATURE ELIMINATION (RFE) ###\n",
    "\n",
    "model = BoostRFE(\n",
    "    regr_xgb, param_grid=param_dist, min_features_to_select=1, step=1,\n",
    "    n_iter=8, sampling_seed=0\n",
    ")\n",
    "model.fit(X_regr_train, y_regr_train, eval_set=[(X_regr_valid, y_regr_valid)], early_stopping_rounds=6, verbose=0)"
   ],
   "metadata": {
    "execution": {
     "iopub.status.busy": "2022-01-01T12:14:09.087595Z",
     "iopub.execute_input": "2022-01-01T12:14:09.087798Z",
     "iopub.status.idle": "2022-01-01T12:16:42.203604Z",
     "shell.execute_reply.started": "2022-01-01T12:14:09.087772Z",
     "shell.execute_reply": "2022-01-01T12:16:42.202743Z"
    },
    "trusted": true
   },
   "execution_count": 34,
   "outputs": [
    {
     "name": "stdout",
     "text": "\n8 trials detected for ('learning_rate', 'num_leaves', 'max_depth')\n\ntrial: 0001 ### iterations: 00021 ### eval_score: 0.25941\ntrial: 0002 ### iterations: 00077 ### eval_score: 0.25055\ntrial: 0003 ### iterations: 00086 ### eval_score: 0.25676\ntrial: 0004 ### iterations: 00098 ### eval_score: 0.25383\ntrial: 0005 ### iterations: 00050 ### eval_score: 0.25751\ntrial: 0006 ### iterations: 00028 ### eval_score: 0.26007\ntrial: 0007 ### iterations: 00084 ### eval_score: 0.2603\ntrial: 0008 ### iterations: 00024 ### eval_score: 0.26278\n",
     "output_type": "stream"
    },
    {
     "execution_count": 34,
     "output_type": "execute_result",
     "data": {
      "text/plain": "BoostRFE(estimator=XGBRegressor(base_score=None, booster=None,\n                                colsample_bylevel=None, colsample_bynode=None,\n                                colsample_bytree=None, enable_categorical=False,\n                                gamma=None, gpu_id=None, importance_type=None,\n                                interaction_constraints=None,\n                                learning_rate=None, max_delta_step=None,\n                                max_depth=None, min_child_weight=None,\n                                missing=nan, monotone_constraints=None,\n                                n_estimato...\n                                random_state=0, reg_alpha=None, reg_lambda=None,\n                                scale_pos_weight=None, subsample=None,\n                                tree_method=None, validate_parameters=None,\n                                verbosity=0),\n         min_features_to_select=1, n_iter=8,\n         param_grid={'learning_rate': <scipy.stats._distn_infrastructure.rv_frozen object at 0x7f5d29426490>,\n                     'max_depth': [10, 12],\n                     'num_leaves': <scipy.stats._distn_infrastructure.rv_frozen object at 0x7f5d29426710>},\n         sampling_seed=0)"
     },
     "metadata": {}
    }
   ]
  },
  {
   "cell_type": "code",
   "source": [
    "model.estimator_, model.best_params_, model.best_score_, model.n_features_"
   ],
   "metadata": {
    "execution": {
     "iopub.status.busy": "2022-01-01T12:16:42.205176Z",
     "iopub.execute_input": "2022-01-01T12:16:42.205439Z",
     "iopub.status.idle": "2022-01-01T12:16:42.215355Z",
     "shell.execute_reply.started": "2022-01-01T12:16:42.205404Z",
     "shell.execute_reply": "2022-01-01T12:16:42.214732Z"
    },
    "trusted": true
   },
   "execution_count": 35,
   "outputs": [
    {
     "execution_count": 35,
     "output_type": "execute_result",
     "data": {
      "text/plain": "(XGBRegressor(base_score=0.5, booster='gbtree', colsample_bylevel=1,\n              colsample_bynode=1, colsample_bytree=1, enable_categorical=False,\n              gamma=0, gpu_id=-1, importance_type=None,\n              interaction_constraints='', learning_rate=0.1350674222191923,\n              max_delta_step=0, max_depth=10, min_child_weight=1, missing=nan,\n              monotone_constraints='()', n_estimators=150, n_jobs=-1,\n              num_leaves=38, num_parallel_tree=1, predictor='auto',\n              random_state=0, reg_alpha=0, reg_lambda=1, scale_pos_weight=1,\n              subsample=1, tree_method='exact', validate_parameters=1,\n              verbosity=0),\n {'learning_rate': 0.1350674222191923, 'num_leaves': 38, 'max_depth': 10},\n 0.250552,\n 10)"
     },
     "metadata": {}
    }
   ]
  },
  {
   "cell_type": "code",
   "source": [
    "(model.score(X_regr_valid, y_regr_valid), \n",
    " model.predict(X_regr_valid).shape, \n",
    " model.transform(X_regr_valid).shape)"
   ],
   "metadata": {
    "execution": {
     "iopub.status.busy": "2022-01-01T12:16:42.216398Z",
     "iopub.execute_input": "2022-01-01T12:16:42.216642Z",
     "iopub.status.idle": "2022-01-01T12:16:42.242381Z",
     "shell.execute_reply.started": "2022-01-01T12:16:42.216606Z",
     "shell.execute_reply": "2022-01-01T12:16:42.241879Z"
    },
    "trusted": true
   },
   "execution_count": 36,
   "outputs": [
    {
     "execution_count": 36,
     "output_type": "execute_result",
     "data": {
      "text/plain": "(0.7488873349293266, (1800,), (1800, 10))"
     },
     "metadata": {}
    }
   ]
  },
  {
   "cell_type": "code",
   "source": [
    "### HYPERPARAM TUNING WITH HYPEROPT + RECURSIVE FEATURE ADDITION (RFA) ###\n",
    "\n",
    "model = BoostRFA(\n",
    "    regr_xgb, param_grid=param_dist_hyperopt, min_features_to_select=1, step=1,\n",
    "    n_iter=8, sampling_seed=0\n",
    ")\n",
    "model.fit(\n",
    "    X_regr_train, y_regr_train, trials=Trials(), \n",
    "    eval_set=[(X_regr_valid, y_regr_valid)], early_stopping_rounds=6, verbose=0\n",
    ")"
   ],
   "metadata": {
    "execution": {
     "iopub.status.busy": "2022-01-01T12:16:42.245655Z",
     "iopub.execute_input": "2022-01-01T12:16:42.247219Z",
     "iopub.status.idle": "2022-01-01T12:26:08.685124Z",
     "shell.execute_reply.started": "2022-01-01T12:16:42.247188Z",
     "shell.execute_reply": "2022-01-01T12:26:08.684364Z"
    },
    "trusted": true
   },
   "execution_count": 37,
   "outputs": [
    {
     "name": "stdout",
     "text": "\n8 trials detected for ('max_depth', 'learning_rate', 'colsample_bytree')\n\ntrial: 0001 ### iterations: 00149 ### eval_score: 0.26412\ntrial: 0002 ### iterations: 00080 ### eval_score: 0.25357\ntrial: 0003 ### iterations: 00054 ### eval_score: 0.26123\ntrial: 0004 ### iterations: 00149 ### eval_score: 0.2801\ntrial: 0005 ### iterations: 00149 ### eval_score: 0.27046\ntrial: 0006 ### iterations: 00149 ### eval_score: 0.24789\ntrial: 0007 ### iterations: 00054 ### eval_score: 0.25928\ntrial: 0008 ### iterations: 00140 ### eval_score: 0.27284\n",
     "output_type": "stream"
    },
    {
     "execution_count": 37,
     "output_type": "execute_result",
     "data": {
      "text/plain": "BoostRFA(estimator=XGBRegressor(base_score=None, booster=None,\n                                colsample_bylevel=None, colsample_bynode=None,\n                                colsample_bytree=None, enable_categorical=False,\n                                gamma=None, gpu_id=None, importance_type=None,\n                                interaction_constraints=None,\n                                learning_rate=None, max_delta_step=None,\n                                max_depth=None, min_child_weight=None,\n                                missing=nan, monotone_constraints=None,\n                                n_estimato...\n                                random_state=0, reg_alpha=None, reg_lambda=None,\n                                scale_pos_weight=None, subsample=None,\n                                tree_method=None, validate_parameters=None,\n                                verbosity=0),\n         min_features_to_select=1, n_iter=8,\n         param_grid={'colsample_bytree': <hyperopt.pyll.base.Apply object at 0x7f5d29426890>,\n                     'learning_rate': <hyperopt.pyll.base.Apply object at 0x7f5d29426a50>,\n                     'max_depth': <hyperopt.pyll.base.Apply object at 0x7f5d29426790>},\n         sampling_seed=0)"
     },
     "metadata": {}
    }
   ]
  },
  {
   "cell_type": "code",
   "source": [
    "model.estimator_, model.best_params_, model.best_score_, model.n_features_"
   ],
   "metadata": {
    "execution": {
     "iopub.status.busy": "2022-01-01T12:26:08.686184Z",
     "iopub.execute_input": "2022-01-01T12:26:08.686931Z",
     "iopub.status.idle": "2022-01-01T12:26:08.696854Z",
     "shell.execute_reply.started": "2022-01-01T12:26:08.686898Z",
     "shell.execute_reply": "2022-01-01T12:26:08.696004Z"
    },
    "trusted": true
   },
   "execution_count": 38,
   "outputs": [
    {
     "execution_count": 38,
     "output_type": "execute_result",
     "data": {
      "text/plain": "(XGBRegressor(base_score=0.5, booster='gbtree', colsample_bylevel=1,\n              colsample_bynode=1, colsample_bytree=0.7597292534356749,\n              enable_categorical=False, gamma=0, gpu_id=-1, importance_type=None,\n              interaction_constraints='', learning_rate=0.059836658149176665,\n              max_delta_step=0, max_depth=16, min_child_weight=1, missing=nan,\n              monotone_constraints='()', n_estimators=150, n_jobs=-1,\n              num_parallel_tree=1, predictor='auto', random_state=0, reg_alpha=0,\n              reg_lambda=1, scale_pos_weight=1, subsample=1, tree_method='exact',\n              validate_parameters=1, verbosity=0),\n {'colsample_bytree': 0.7597292534356749,\n  'learning_rate': 0.059836658149176665,\n  'max_depth': 16},\n 0.247887,\n 8)"
     },
     "metadata": {}
    }
   ]
  },
  {
   "cell_type": "code",
   "source": [
    "(model.score(X_regr_valid, y_regr_valid), \n",
    " model.predict(X_regr_valid).shape, \n",
    " model.transform(X_regr_valid).shape)"
   ],
   "metadata": {
    "execution": {
     "iopub.status.busy": "2022-01-01T12:26:08.697934Z",
     "iopub.execute_input": "2022-01-01T12:26:08.698155Z",
     "iopub.status.idle": "2022-01-01T12:26:08.736781Z",
     "shell.execute_reply.started": "2022-01-01T12:26:08.698128Z",
     "shell.execute_reply": "2022-01-01T12:26:08.736145Z"
    },
    "trusted": true
   },
   "execution_count": 39,
   "outputs": [
    {
     "execution_count": 39,
     "output_type": "execute_result",
     "data": {
      "text/plain": "(0.7542006308661441, (1800,), (1800, 8))"
     },
     "metadata": {}
    }
   ]
  },
  {
   "cell_type": "markdown",
   "source": [
    "# Hyperparameters Tuning + Features Selection with SHAP"
   ],
   "metadata": {}
  },
  {
   "cell_type": "code",
   "source": [
    "### HYPERPARAM TUNING WITH GRID-SEARCH + BORUTA SHAP ###\n",
    "\n",
    "model = BoostBoruta(\n",
    "    clf_xgb, param_grid=param_grid, max_iter=200, perc=100,\n",
    "    importance_type='shap_importances', train_importance=False\n",
    ")\n",
    "model.fit(X_clf_train, y_clf_train, eval_set=[(X_clf_valid, y_clf_valid)], early_stopping_rounds=6, verbose=0)"
   ],
   "metadata": {
    "scrolled": true,
    "execution": {
     "iopub.status.busy": "2022-01-01T12:26:08.740222Z",
     "iopub.execute_input": "2022-01-01T12:26:08.741848Z",
     "iopub.status.idle": "2022-01-01T12:56:13.612807Z",
     "shell.execute_reply.started": "2022-01-01T12:26:08.741813Z",
     "shell.execute_reply": "2022-01-01T12:56:13.611991Z"
    },
    "trusted": true
   },
   "execution_count": 40,
   "outputs": [
    {
     "name": "stdout",
     "text": "\n8 trials detected for ('learning_rate', 'num_leaves', 'max_depth')\n\ntrial: 0001 ### iterations: 00024 ### eval_score: 0.20151\ntrial: 0002 ### iterations: 00020 ### eval_score: 0.20877\ntrial: 0003 ### iterations: 00024 ### eval_score: 0.20151\ntrial: 0004 ### iterations: 00020 ### eval_score: 0.20877\ntrial: 0005 ### iterations: 00048 ### eval_score: 0.20401\ntrial: 0006 ### iterations: 00048 ### eval_score: 0.20575\ntrial: 0007 ### iterations: 00048 ### eval_score: 0.20401\ntrial: 0008 ### iterations: 00048 ### eval_score: 0.20575\n",
     "output_type": "stream"
    },
    {
     "execution_count": 40,
     "output_type": "execute_result",
     "data": {
      "text/plain": "BoostBoruta(estimator=XGBClassifier(base_score=None, booster=None,\n                                    colsample_bylevel=None,\n                                    colsample_bynode=None,\n                                    colsample_bytree=None,\n                                    enable_categorical=False, gamma=None,\n                                    gpu_id=None, importance_type=None,\n                                    interaction_constraints=None,\n                                    learning_rate=None, max_delta_step=None,\n                                    max_depth=None, min_child_weight=None,\n                                    missing=nan, monotone_constraints=None,\n                                    n_estimators=150, n_jobs=-1,\n                                    num_parallel_tree=None, predictor=None,\n                                    random_state=0, reg_alpha=None,\n                                    reg_lambda=None, scale_pos_weight=None,\n                                    subsample=None, tree_method=None,\n                                    validate_parameters=None, verbosity=0),\n            importance_type='shap_importances', max_iter=200,\n            param_grid={'learning_rate': [0.2, 0.1], 'max_depth': [10, 12],\n                        'num_leaves': [25, 35]},\n            train_importance=False)"
     },
     "metadata": {}
    }
   ]
  },
  {
   "cell_type": "code",
   "source": [
    "model.estimator_, model.best_params_, model.best_score_, model.n_features_"
   ],
   "metadata": {
    "execution": {
     "iopub.status.busy": "2022-01-01T12:56:13.617168Z",
     "iopub.execute_input": "2022-01-01T12:56:13.617372Z",
     "iopub.status.idle": "2022-01-01T12:56:13.626563Z",
     "shell.execute_reply.started": "2022-01-01T12:56:13.617349Z",
     "shell.execute_reply": "2022-01-01T12:56:13.626036Z"
    },
    "trusted": true
   },
   "execution_count": 41,
   "outputs": [
    {
     "execution_count": 41,
     "output_type": "execute_result",
     "data": {
      "text/plain": "(XGBClassifier(base_score=0.5, booster='gbtree', colsample_bylevel=1,\n               colsample_bynode=1, colsample_bytree=1, enable_categorical=False,\n               gamma=0, gpu_id=-1, importance_type=None,\n               interaction_constraints='', learning_rate=0.2, max_delta_step=0,\n               max_depth=10, min_child_weight=1, missing=nan,\n               monotone_constraints='()', n_estimators=150, n_jobs=-1,\n               num_leaves=25, num_parallel_tree=1, predictor='auto',\n               random_state=0, reg_alpha=0, reg_lambda=1, scale_pos_weight=1,\n               subsample=1, tree_method='exact', validate_parameters=1,\n               verbosity=0),\n {'learning_rate': 0.2, 'num_leaves': 25, 'max_depth': 10},\n 0.201509,\n 10)"
     },
     "metadata": {}
    }
   ]
  },
  {
   "cell_type": "code",
   "source": [
    "(model.score(X_clf_valid, y_clf_valid), \n",
    " model.predict(X_clf_valid).shape, \n",
    " model.transform(X_clf_valid).shape,\n",
    " model.predict_proba(X_clf_valid).shape)"
   ],
   "metadata": {
    "execution": {
     "iopub.status.busy": "2022-01-01T12:56:13.627454Z",
     "iopub.execute_input": "2022-01-01T12:56:13.627825Z",
     "iopub.status.idle": "2022-01-01T12:56:13.665907Z",
     "shell.execute_reply.started": "2022-01-01T12:56:13.627797Z",
     "shell.execute_reply": "2022-01-01T12:56:13.664686Z"
    },
    "trusted": true
   },
   "execution_count": 42,
   "outputs": [
    {
     "execution_count": 42,
     "output_type": "execute_result",
     "data": {
      "text/plain": "(0.9144444444444444, (1800,), (1800, 10), (1800, 2))"
     },
     "metadata": {}
    }
   ]
  },
  {
   "cell_type": "code",
   "source": [
    "### HYPERPARAM TUNING WITH RANDOM-SEARCH + RECURSIVE FEATURE ELIMINATION (RFE) SHAP ###\n",
    "\n",
    "model = BoostRFE(\n",
    "    regr_xgb, param_grid=param_dist, min_features_to_select=1, step=1,\n",
    "    n_iter=8, sampling_seed=0,\n",
    "    importance_type='shap_importances', train_importance=False\n",
    ")\n",
    "model.fit(X_regr_train, y_regr_train, eval_set=[(X_regr_valid, y_regr_valid)], early_stopping_rounds=6, verbose=0)"
   ],
   "metadata": {
    "execution": {
     "iopub.status.busy": "2022-01-01T12:56:13.667149Z",
     "iopub.execute_input": "2022-01-01T12:56:13.667539Z",
     "iopub.status.idle": "2022-01-01T13:08:38.854835Z",
     "shell.execute_reply.started": "2022-01-01T12:56:13.667509Z",
     "shell.execute_reply": "2022-01-01T13:08:38.854142Z"
    },
    "trusted": true
   },
   "execution_count": 43,
   "outputs": [
    {
     "name": "stdout",
     "text": "\n8 trials detected for ('learning_rate', 'num_leaves', 'max_depth')\n\ntrial: 0001 ### iterations: 00021 ### eval_score: 0.25941\ntrial: 0002 ### iterations: 00064 ### eval_score: 0.25075\ntrial: 0003 ### iterations: 00075 ### eval_score: 0.25493\ntrial: 0004 ### iterations: 00084 ### eval_score: 0.25002\ntrial: 0005 ### iterations: 00093 ### eval_score: 0.25609\ntrial: 0006 ### iterations: 00039 ### eval_score: 0.2573\ntrial: 0007 ### iterations: 00074 ### eval_score: 0.25348\ntrial: 0008 ### iterations: 00032 ### eval_score: 0.2583\n",
     "output_type": "stream"
    },
    {
     "execution_count": 43,
     "output_type": "execute_result",
     "data": {
      "text/plain": "BoostRFE(estimator=XGBRegressor(base_score=None, booster=None,\n                                colsample_bylevel=None, colsample_bynode=None,\n                                colsample_bytree=None, enable_categorical=False,\n                                gamma=None, gpu_id=None, importance_type=None,\n                                interaction_constraints=None,\n                                learning_rate=None, max_delta_step=None,\n                                max_depth=None, min_child_weight=None,\n                                missing=nan, monotone_constraints=None,\n                                n_estimato...\n                                tree_method=None, validate_parameters=None,\n                                verbosity=0),\n         importance_type='shap_importances', min_features_to_select=1, n_iter=8,\n         param_grid={'learning_rate': <scipy.stats._distn_infrastructure.rv_frozen object at 0x7f5d29426490>,\n                     'max_depth': [10, 12],\n                     'num_leaves': <scipy.stats._distn_infrastructure.rv_frozen object at 0x7f5d29426710>},\n         sampling_seed=0, train_importance=False)"
     },
     "metadata": {}
    }
   ]
  },
  {
   "cell_type": "code",
   "source": [
    "model.estimator_, model.best_params_, model.best_score_, model.n_features_"
   ],
   "metadata": {
    "execution": {
     "iopub.status.busy": "2022-01-01T13:08:38.855807Z",
     "iopub.execute_input": "2022-01-01T13:08:38.856007Z",
     "iopub.status.idle": "2022-01-01T13:08:38.866421Z",
     "shell.execute_reply.started": "2022-01-01T13:08:38.855982Z",
     "shell.execute_reply": "2022-01-01T13:08:38.865771Z"
    },
    "trusted": true
   },
   "execution_count": 44,
   "outputs": [
    {
     "execution_count": 44,
     "output_type": "execute_result",
     "data": {
      "text/plain": "(XGBRegressor(base_score=0.5, booster='gbtree', colsample_bylevel=1,\n              colsample_bynode=1, colsample_bytree=1, enable_categorical=False,\n              gamma=0, gpu_id=-1, importance_type=None,\n              interaction_constraints='', learning_rate=0.1669837381562427,\n              max_delta_step=0, max_depth=10, min_child_weight=1, missing=nan,\n              monotone_constraints='()', n_estimators=150, n_jobs=-1,\n              num_leaves=25, num_parallel_tree=1, predictor='auto',\n              random_state=0, reg_alpha=0, reg_lambda=1, scale_pos_weight=1,\n              subsample=1, tree_method='exact', validate_parameters=1,\n              verbosity=0),\n {'learning_rate': 0.1669837381562427, 'num_leaves': 25, 'max_depth': 10},\n 0.250021,\n 11)"
     },
     "metadata": {}
    }
   ]
  },
  {
   "cell_type": "code",
   "source": [
    "(model.score(X_regr_valid, y_regr_valid), \n",
    " model.predict(X_regr_valid).shape, \n",
    " model.transform(X_regr_valid).shape)"
   ],
   "metadata": {
    "execution": {
     "iopub.status.busy": "2022-01-01T13:08:38.867249Z",
     "iopub.execute_input": "2022-01-01T13:08:38.867888Z",
     "iopub.status.idle": "2022-01-01T13:08:38.887178Z",
     "shell.execute_reply.started": "2022-01-01T13:08:38.867860Z",
     "shell.execute_reply": "2022-01-01T13:08:38.886666Z"
    },
    "trusted": true
   },
   "execution_count": 45,
   "outputs": [
    {
     "execution_count": 45,
     "output_type": "execute_result",
     "data": {
      "text/plain": "(0.7499501426259738, (1800,), (1800, 11))"
     },
     "metadata": {}
    }
   ]
  },
  {
   "cell_type": "code",
   "source": [
    "### HYPERPARAM TUNING WITH HYPEROPT + RECURSIVE FEATURE ADDITION (RFA) SHAP ###\n",
    "\n",
    "model = BoostRFA(\n",
    "    regr_xgb, param_grid=param_dist_hyperopt, min_features_to_select=1, step=1,\n",
    "    n_iter=8, sampling_seed=0,\n",
    "    importance_type='shap_importances', train_importance=False\n",
    ")\n",
    "model.fit(\n",
    "    X_regr_train, y_regr_train, trials=Trials(), \n",
    "    eval_set=[(X_regr_valid, y_regr_valid)], early_stopping_rounds=6, verbose=0\n",
    ")"
   ],
   "metadata": {
    "execution": {
     "iopub.status.busy": "2022-01-01T13:08:38.890197Z",
     "iopub.execute_input": "2022-01-01T13:08:38.891876Z",
     "iopub.status.idle": "2022-01-01T13:41:32.886109Z",
     "shell.execute_reply.started": "2022-01-01T13:08:38.891845Z",
     "shell.execute_reply": "2022-01-01T13:41:32.885257Z"
    },
    "trusted": true
   },
   "execution_count": 46,
   "outputs": [
    {
     "name": "stdout",
     "text": "\n8 trials detected for ('max_depth', 'learning_rate', 'colsample_bytree')\n\ntrial: 0001 ### iterations: 00149 ### eval_score: 0.25811\ntrial: 0002 ### iterations: 00078 ### eval_score: 0.25554\ntrial: 0003 ### iterations: 00059 ### eval_score: 0.26658\ntrial: 0004 ### iterations: 00149 ### eval_score: 0.27356\ntrial: 0005 ### iterations: 00149 ### eval_score: 0.26426\ntrial: 0006 ### iterations: 00149 ### eval_score: 0.25537\ntrial: 0007 ### iterations: 00052 ### eval_score: 0.26107\ntrial: 0008 ### iterations: 00137 ### eval_score: 0.27787\n",
     "output_type": "stream"
    },
    {
     "execution_count": 46,
     "output_type": "execute_result",
     "data": {
      "text/plain": "BoostRFA(estimator=XGBRegressor(base_score=None, booster=None,\n                                colsample_bylevel=None, colsample_bynode=None,\n                                colsample_bytree=None, enable_categorical=False,\n                                gamma=None, gpu_id=None, importance_type=None,\n                                interaction_constraints=None,\n                                learning_rate=None, max_delta_step=None,\n                                max_depth=None, min_child_weight=None,\n                                missing=nan, monotone_constraints=None,\n                                n_estimato...\n                                tree_method=None, validate_parameters=None,\n                                verbosity=0),\n         importance_type='shap_importances', min_features_to_select=1, n_iter=8,\n         param_grid={'colsample_bytree': <hyperopt.pyll.base.Apply object at 0x7f5d29426890>,\n                     'learning_rate': <hyperopt.pyll.base.Apply object at 0x7f5d29426a50>,\n                     'max_depth': <hyperopt.pyll.base.Apply object at 0x7f5d29426790>},\n         sampling_seed=0, train_importance=False)"
     },
     "metadata": {}
    }
   ]
  },
  {
   "cell_type": "code",
   "source": [
    "model.estimator_, model.best_params_, model.best_score_, model.n_features_"
   ],
   "metadata": {
    "execution": {
     "iopub.status.busy": "2022-01-01T13:41:32.887300Z",
     "iopub.execute_input": "2022-01-01T13:41:32.887495Z",
     "iopub.status.idle": "2022-01-01T13:41:32.897203Z",
     "shell.execute_reply.started": "2022-01-01T13:41:32.887472Z",
     "shell.execute_reply": "2022-01-01T13:41:32.896455Z"
    },
    "trusted": true
   },
   "execution_count": 47,
   "outputs": [
    {
     "execution_count": 47,
     "output_type": "execute_result",
     "data": {
      "text/plain": "(XGBRegressor(base_score=0.5, booster='gbtree', colsample_bylevel=1,\n              colsample_bynode=1, colsample_bytree=0.7597292534356749,\n              enable_categorical=False, gamma=0, gpu_id=-1, importance_type=None,\n              interaction_constraints='', learning_rate=0.059836658149176665,\n              max_delta_step=0, max_depth=16, min_child_weight=1, missing=nan,\n              monotone_constraints='()', n_estimators=150, n_jobs=-1,\n              num_parallel_tree=1, predictor='auto', random_state=0, reg_alpha=0,\n              reg_lambda=1, scale_pos_weight=1, subsample=1, tree_method='exact',\n              validate_parameters=1, verbosity=0),\n {'colsample_bytree': 0.7597292534356749,\n  'learning_rate': 0.059836658149176665,\n  'max_depth': 16},\n 0.255374,\n 11)"
     },
     "metadata": {}
    }
   ]
  },
  {
   "cell_type": "code",
   "source": [
    "(model.score(X_regr_valid, y_regr_valid), \n",
    " model.predict(X_regr_valid).shape, \n",
    " model.transform(X_regr_valid).shape)"
   ],
   "metadata": {
    "execution": {
     "iopub.status.busy": "2022-01-01T13:41:32.898201Z",
     "iopub.execute_input": "2022-01-01T13:41:32.898493Z",
     "iopub.status.idle": "2022-01-01T13:41:32.931801Z",
     "shell.execute_reply.started": "2022-01-01T13:41:32.898469Z",
     "shell.execute_reply": "2022-01-01T13:41:32.931131Z"
    },
    "trusted": true
   },
   "execution_count": 48,
   "outputs": [
    {
     "execution_count": 48,
     "output_type": "execute_result",
     "data": {
      "text/plain": "(0.7391290836488575, (1800,), (1800, 11))"
     },
     "metadata": {}
    }
   ]
  },
  {
   "cell_type": "code",
   "execution_count": 5,
   "outputs": [
    {
     "name": "stdout",
     "output_type": "stream",
     "text": [
      "\n",
      "8 trials detected for ('max_depth', 'learning_rate', 'colsample_bytree')\n",
      "\n",
      "trial: 0001 ### iterations: 00149 ### eval_score: 0.268\n",
      "trial: 0002 ### iterations: 00076 ### eval_score: 0.27326\n",
      "trial: 0003 ### iterations: 00057 ### eval_score: 0.27431\n",
      "trial: 0004 ### iterations: 00149 ### eval_score: 0.28733\n",
      "trial: 0005 ### iterations: 00149 ### eval_score: 0.2767\n",
      "trial: 0006 ### iterations: 00149 ### eval_score: 0.26096\n",
      "trial: 0007 ### iterations: 00055 ### eval_score: 0.26037\n",
      "trial: 0008 ### iterations: 00132 ### eval_score: 0.28209\n"
     ]
    },
    {
     "data": {
      "text/plain": "BoostRFA(estimator=XGBRegressor(base_score=None, booster=None,\n                                colsample_bylevel=None, colsample_bynode=None,\n                                colsample_bytree=None, gamma=None, gpu_id=None,\n                                importance_type='gain',\n                                interaction_constraints=None,\n                                learning_rate=None, max_delta_step=None,\n                                max_depth=None, min_child_weight=None,\n                                missing=nan, monotone_constraints=None,\n                                n_estimators=150, n_jobs=-1,\n                                num_pa...\n                                tree_method=None, validate_parameters=None,\n                                verbosity=0),\n         importance_type='shap_importances', min_features_to_select=1, n_iter=8,\n         param_grid={'colsample_bytree': <hyperopt.pyll.base.Apply object at 0x000001BF33C79208>,\n                     'learning_rate': <hyperopt.pyll.base.Apply object at 0x000001BF33C790B8>,\n                     'max_depth': <hyperopt.pyll.base.Apply object at 0x000001BF33C71EB8>},\n         sampling_seed=0, train_importance=False)"
     },
     "execution_count": 5,
     "metadata": {},
     "output_type": "execute_result"
    }
   ],
   "source": [
    "### HYPERPARAM TUNING WITH HYPEROPT + RECURSIVE FEATURE ADDITION (RFA) SHAP WITH WARM START ###\n",
    "\n",
    "model = BoostRFA(\n",
    "    regr_xgb, param_grid=param_dist_hyperopt, min_features_to_select=1, step=1,\n",
    "    n_iter=8, sampling_seed=0,\n",
    "    importance_type='shap_importances', train_importance=False\n",
    ")\n",
    "model.fit(\n",
    "    X_regr_train, y_regr_train, trials=Trials(),\n",
    "    eval_set=[(X_regr_valid, y_regr_valid)], early_stopping_rounds=6, verbose=0,\n",
    "    fixed_features = [0, 2, 8], verbose_eval=True\n",
    ")"
   ],
   "metadata": {
    "collapsed": false,
    "pycharm": {
     "name": "#%%\n"
    }
   }
  },
  {
   "cell_type": "code",
   "execution_count": 6,
   "outputs": [
    {
     "data": {
      "text/plain": "(XGBRegressor(base_score=0.5, booster='gbtree', colsample_bylevel=1,\n              colsample_bynode=1, colsample_bytree=0.8933626813491535, gamma=0,\n              gpu_id=-1, importance_type='gain', interaction_constraints='',\n              learning_rate=0.19481043968099895, max_delta_step=0, max_depth=17,\n              min_child_weight=1, missing=nan, monotone_constraints='()',\n              n_estimators=150, n_jobs=-1, num_parallel_tree=1, random_state=0,\n              reg_alpha=0, reg_lambda=1, scale_pos_weight=1, subsample=1,\n              tree_method='exact', validate_parameters=1, verbosity=0),\n {'colsample_bytree': 0.8933626813491535,\n  'learning_rate': 0.19481043968099895,\n  'max_depth': 17},\n 0.260372,\n 12)"
     },
     "execution_count": 6,
     "metadata": {},
     "output_type": "execute_result"
    }
   ],
   "source": [
    "model.estimator_, model.best_params_, model.best_score_, model.n_features_"
   ],
   "metadata": {
    "collapsed": false,
    "pycharm": {
     "name": "#%%\n"
    }
   }
  },
  {
   "cell_type": "code",
   "execution_count": 9,
   "outputs": [
    {
     "data": {
      "text/plain": "55"
     },
     "execution_count": 9,
     "metadata": {},
     "output_type": "execute_result"
    }
   ],
   "source": [
    "model.estimator_.best_iteration"
   ],
   "metadata": {
    "collapsed": false,
    "pycharm": {
     "name": "#%%\n"
    }
   }
  },
  {
   "cell_type": "code",
   "execution_count": 10,
   "outputs": [
    {
     "data": {
      "text/plain": "array([ True,  True,  True,  True,  True,  True,  True,  True,  True,\n       False,  True, False,  True, False, False, False, False, False,\n       False,  True])"
     },
     "execution_count": 10,
     "metadata": {},
     "output_type": "execute_result"
    }
   ],
   "source": [
    "model.support_"
   ],
   "metadata": {
    "collapsed": false,
    "pycharm": {
     "name": "#%%\n"
    }
   }
  },
  {
   "cell_type": "code",
   "execution_count": 11,
   "outputs": [
    {
     "data": {
      "text/plain": "[0.501483,\n 0.490412,\n 0.470748,\n 0.447959,\n 0.428281,\n 0.366092,\n 0.342921,\n 0.327738,\n 0.294137,\n 0.260372,\n 0.281574,\n 0.276581,\n 0.277109,\n 0.281211,\n 0.280039,\n 0.284276,\n 0.275338]"
     },
     "execution_count": 11,
     "metadata": {},
     "output_type": "execute_result"
    }
   ],
   "source": [
    "model.score_history_"
   ],
   "metadata": {
    "collapsed": false,
    "pycharm": {
     "name": "#%%\n"
    }
   }
  },
  {
   "cell_type": "code",
   "execution_count": 7,
   "outputs": [
    {
     "data": {
      "text/plain": "(0.7288183351308488, (1800,), (1800, 12))"
     },
     "execution_count": 7,
     "metadata": {},
     "output_type": "execute_result"
    }
   ],
   "source": [
    "(model.score(X_regr_valid, y_regr_valid),\n",
    " model.predict(X_regr_valid).shape,\n",
    " model.transform(X_regr_valid).shape)"
   ],
   "metadata": {
    "collapsed": false,
    "pycharm": {
     "name": "#%%\n"
    }
   }
  },
  {
   "cell_type": "markdown",
   "source": [
    "# CUSTOM EVAL METRIC SUPPORT"
   ],
   "metadata": {}
  },
  {
   "cell_type": "code",
   "source": "from sklearn.metrics import roc_auc_score\n\ndef AUC(y_hat, dtrain):\n    y_true = dtrain.get_label()\n    return 'auc', roc_auc_score(y_true, y_hat)",
   "metadata": {
    "execution": {
     "iopub.status.busy": "2022-01-01T13:41:32.932773Z",
     "iopub.execute_input": "2022-01-01T13:41:32.932979Z",
     "iopub.status.idle": "2022-01-01T13:41:32.940277Z",
     "shell.execute_reply.started": "2022-01-01T13:41:32.932952Z",
     "shell.execute_reply": "2022-01-01T13:41:32.939659Z"
    },
    "trusted": true
   },
   "execution_count": 49,
   "outputs": []
  },
  {
   "cell_type": "code",
   "source": "model = BoostRFE(\n    clf_xgb, \n    param_grid=param_grid, min_features_to_select=1, step=1,\n    greater_is_better=True\n)\nmodel.fit(\n    X_clf_train, y_clf_train, \n    eval_set=[(X_clf_valid, y_clf_valid)], early_stopping_rounds=6, verbose=0,\n    eval_metric=AUC\n)",
   "metadata": {
    "execution": {
     "iopub.status.busy": "2022-01-01T13:41:32.943194Z",
     "iopub.execute_input": "2022-01-01T13:41:32.944797Z",
     "iopub.status.idle": "2022-01-01T13:43:50.574377Z",
     "shell.execute_reply.started": "2022-01-01T13:41:32.944765Z",
     "shell.execute_reply": "2022-01-01T13:43:50.573628Z"
    },
    "trusted": true
   },
   "execution_count": 50,
   "outputs": [
    {
     "name": "stdout",
     "text": "\n8 trials detected for ('learning_rate', 'num_leaves', 'max_depth')\n\ntrial: 0001 ### iterations: 00017 ### eval_score: 0.9757\ntrial: 0002 ### iterations: 00026 ### eval_score: 0.97632\ntrial: 0003 ### iterations: 00017 ### eval_score: 0.9757\ntrial: 0004 ### iterations: 00026 ### eval_score: 0.97632\ntrial: 0005 ### iterations: 00033 ### eval_score: 0.97594\ntrial: 0006 ### iterations: 00034 ### eval_score: 0.97577\ntrial: 0007 ### iterations: 00033 ### eval_score: 0.97594\ntrial: 0008 ### iterations: 00034 ### eval_score: 0.97577\n",
     "output_type": "stream"
    },
    {
     "execution_count": 50,
     "output_type": "execute_result",
     "data": {
      "text/plain": "BoostRFE(estimator=XGBClassifier(base_score=None, booster=None,\n                                 colsample_bylevel=None, colsample_bynode=None,\n                                 colsample_bytree=None,\n                                 enable_categorical=False, gamma=None,\n                                 gpu_id=None, importance_type=None,\n                                 interaction_constraints=None,\n                                 learning_rate=None, max_delta_step=None,\n                                 max_depth=None, min_child_weight=None,\n                                 missing=nan, monotone_constraints=None,\n                                 n_estimators=150, n_jobs=-1,\n                                 num_parallel_tree=None, predictor=None,\n                                 random_state=0, reg_alpha=None,\n                                 reg_lambda=None, scale_pos_weight=None,\n                                 subsample=None, tree_method=None,\n                                 validate_parameters=None, verbosity=0),\n         greater_is_better=True, min_features_to_select=1,\n         param_grid={'learning_rate': [0.2, 0.1], 'max_depth': [10, 12],\n                     'num_leaves': [25, 35]})"
     },
     "metadata": {}
    }
   ]
  }
 ]
}